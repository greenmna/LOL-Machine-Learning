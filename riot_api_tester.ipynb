{
 "cells": [
  {
   "cell_type": "code",
   "execution_count": 1,
   "metadata": {},
   "outputs": [],
   "source": [
    "# Imports\n",
    "import constants\n",
    "import requests\n",
    "from ratelimit import limits, sleep_and_retry\n",
    "import mysql.connector\n",
    "import sys"
   ]
  },
  {
   "cell_type": "code",
   "execution_count": 2,
   "metadata": {},
   "outputs": [],
   "source": [
    "# Place API key in a dictionary called headers, with the key specifying 'X-Riot-Token'\n",
    "headers = {'X-Riot-Token': constants.RIOT_API_KEY}"
   ]
  },
  {
   "cell_type": "code",
   "execution_count": 3,
   "metadata": {},
   "outputs": [],
   "source": [
    "summoner_name = 'fugufishy'\n",
    "tagline = 'NA1'"
   ]
  },
  {
   "cell_type": "code",
   "execution_count": 4,
   "metadata": {},
   "outputs": [],
   "source": [
    "account_info = requests.get(f'https://americas.api.riotgames.com/riot/account/v1/accounts/by-riot-id/{summoner_name}/{tagline}', headers=headers).json()"
   ]
  },
  {
   "cell_type": "code",
   "execution_count": 5,
   "metadata": {},
   "outputs": [
    {
     "data": {
      "text/plain": [
       "{'puuid': 'zz3kkg_TNb8QiMfvHSxDX5NhxSpLKDqK4TbSfhVqAZ_hycB5lrwkoePnCrMOlv5krA4xxHkQTKYCAA',\n",
       " 'gameName': 'fugufishy',\n",
       " 'tagLine': 'NA1'}"
      ]
     },
     "execution_count": 5,
     "metadata": {},
     "output_type": "execute_result"
    }
   ],
   "source": [
    "account_info"
   ]
  },
  {
   "cell_type": "code",
   "execution_count": 32,
   "metadata": {},
   "outputs": [
    {
     "name": "stdout",
     "output_type": "stream",
     "text": [
      "{'puuid': 'zz3kkg_TNb8QiMfvHSxDX5NhxSpLKDqK4TbSfhVqAZ_hycB5lrwkoePnCrMOlv5krA4xxHkQTKYCAA', 'gameName': 'fugufishy', 'tagLine': 'NA1'}\n"
     ]
    }
   ],
   "source": [
    "# Define static info for Riot API\n",
    "API_KEY = constants.RIOT_API_KEY\n",
    "BASE_URL = \"https://americas.api.riotgames.com\"\n",
    "\n",
    "# Define rate limits\n",
    "ONE_SECOND = 1\n",
    "TWO_MINUTES = 120\n",
    "\n",
    "\n",
    "@sleep_and_retry\n",
    "@limits(calls=20, period=ONE_SECOND)\n",
    "@limits(calls=100, period=TWO_MINUTES)\n",
    "def make_request(endpoint):\n",
    "    url = f\"{BASE_URL}{endpoint}\"\n",
    "    headers = {'X-Riot-Token':API_KEY}\n",
    "    response = requests.get(url, headers=headers)\n",
    "\n",
    "    if response.status_code == 200:\n",
    "        return response.json()\n",
    "    else:\n",
    "        print(f\"Error: {response.status_code}\")\n",
    "        print(response.text)\n",
    "        sys.exit()\n",
    "\n",
    "\n",
    "username = 'fugufishy'\n",
    "tagline = 'NA1'\n",
    "endpoint = f'/riot/account/v1/accounts/by-riot-id/{username}/{tagline}'\n",
    "data = make_request(endpoint)\n",
    "\n",
    "if data:\n",
    "    print(data)"
   ]
  },
  {
   "cell_type": "code",
   "execution_count": null,
   "metadata": {},
   "outputs": [],
   "source": []
  }
 ],
 "metadata": {
  "kernelspec": {
   "display_name": "LOLProject",
   "language": "python",
   "name": "python3"
  },
  "language_info": {
   "codemirror_mode": {
    "name": "ipython",
    "version": 3
   },
   "file_extension": ".py",
   "mimetype": "text/x-python",
   "name": "python",
   "nbconvert_exporter": "python",
   "pygments_lexer": "ipython3",
   "version": "3.13.2"
  }
 },
 "nbformat": 4,
 "nbformat_minor": 2
}
