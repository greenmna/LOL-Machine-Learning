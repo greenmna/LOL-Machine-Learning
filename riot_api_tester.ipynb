{
 "cells": [
  {
   "cell_type": "code",
   "execution_count": 1,
   "metadata": {},
   "outputs": [],
   "source": [
    "# Imports\n",
    "import constants\n",
    "import requests\n",
    "from ratelimit import limits, sleep_and_retry\n",
    "import mysql.connector\n",
    "import sys"
   ]
  },
  {
   "cell_type": "code",
   "execution_count": 5,
   "metadata": {},
   "outputs": [
    {
     "name": "stdout",
     "output_type": "stream",
     "text": [
      "{'puuid': 'zz3kkg_TNb8QiMfvHSxDX5NhxSpLKDqK4TbSfhVqAZ_hycB5lrwkoePnCrMOlv5krA4xxHkQTKYCAA', 'gameName': 'fugufishy', 'tagLine': 'NA1'}\n"
     ]
    }
   ],
   "source": [
    "# Define static info for Riot API\n",
    "API_KEY = 'RGAPI-6225a3fe-17a5-4cd1-8c30-e7a73ac94309'\n",
    "BASE_URL = \"https://americas.api.riotgames.com\"\n",
    "\n",
    "# Define rate limits\n",
    "ONE_SECOND = 1\n",
    "TWO_MINUTES = 120\n",
    "\n",
    "\n",
    "@sleep_and_retry\n",
    "@limits(calls=20, period=ONE_SECOND)\n",
    "@limits(calls=100, period=TWO_MINUTES)\n",
    "def make_request(endpoint):\n",
    "    url = f\"{BASE_URL}{endpoint}\"\n",
    "    headers = {'X-Riot-Token':API_KEY}\n",
    "    response = requests.get(url, headers=headers)\n",
    "\n",
    "    if response.status_code == 200:\n",
    "        return response.json()\n",
    "    else:\n",
    "        print(f\"Error: {response.status_code}\")\n",
    "        print(response.text)\n",
    "        sys.exit()\n",
    "\n",
    "\n",
    "username = 'fugufishy'\n",
    "tagline = 'NA1'\n",
    "endpoint = f'/riot/account/v1/accounts/by-riot-id/{username}/{tagline}'\n",
    "data = make_request(endpoint)\n",
    "\n",
    "if data:\n",
    "    print(data)"
   ]
  },
  {
   "cell_type": "code",
   "execution_count": null,
   "metadata": {},
   "outputs": [],
   "source": []
  }
 ],
 "metadata": {
  "kernelspec": {
   "display_name": "LOLProject",
   "language": "python",
   "name": "python3"
  },
  "language_info": {
   "codemirror_mode": {
    "name": "ipython",
    "version": 3
   },
   "file_extension": ".py",
   "mimetype": "text/x-python",
   "name": "python",
   "nbconvert_exporter": "python",
   "pygments_lexer": "ipython3",
   "version": "3.13.2"
  }
 },
 "nbformat": 4,
 "nbformat_minor": 2
}
