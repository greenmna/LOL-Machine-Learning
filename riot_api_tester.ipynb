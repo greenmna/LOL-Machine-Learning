{
 "cells": [
  {
   "cell_type": "code",
   "execution_count": 6,
   "metadata": {},
   "outputs": [],
   "source": [
    "# Imports\n",
    "import constants\n",
    "import requests\n",
    "from ratelimit import limits, sleep_and_retry\n",
    "import mysql.connector\n",
    "import sys"
   ]
  },
  {
   "cell_type": "code",
   "execution_count": 7,
   "metadata": {},
   "outputs": [
    {
     "name": "stdout",
     "output_type": "stream",
     "text": [
      "{'puuid': 'zz3kkg_TNb8QiMfvHSxDX5NhxSpLKDqK4TbSfhVqAZ_hycB5lrwkoePnCrMOlv5krA4xxHkQTKYCAA', 'gameName': 'fugufishy', 'tagLine': 'NA1'}\n"
     ]
    }
   ],
   "source": [
    "# Define static info for Riot API\n",
    "API_KEY = 'RGAPI-363cccbd-5bf7-4d53-9e6d-8bc44c959dcb'\n",
    "BASE_URL = \"https://americas.api.riotgames.com\"\n",
    "\n",
    "# Define rate limits\n",
    "ONE_SECOND = 1\n",
    "TWO_MINUTES = 120\n",
    "\n",
    "\n",
    "@sleep_and_retry\n",
    "@limits(calls=20, period=ONE_SECOND)\n",
    "@limits(calls=100, period=TWO_MINUTES)\n",
    "def make_request(endpoint):\n",
    "    url = f\"{BASE_URL}{endpoint}\"\n",
    "    headers = {'X-Riot-Token':API_KEY}\n",
    "    response = requests.get(url, headers=headers)\n",
    "\n",
    "    if response.status_code == 200:\n",
    "        return response.json()\n",
    "    else:\n",
    "        print(f\"Error: {response.status_code}\")\n",
    "        print(response.text)\n",
    "        sys.exit()\n",
    "\n",
    "\n",
    "username = 'fugufishy'\n",
    "tagline = 'NA1'\n",
    "endpoint = f'/riot/account/v1/accounts/by-riot-id/{username}/{tagline}'\n",
    "data = make_request(endpoint)\n",
    "\n",
    "if data:\n",
    "    print(data)"
   ]
  },
  {
   "cell_type": "code",
   "execution_count": 27,
   "metadata": {},
   "outputs": [
    {
     "name": "stdout",
     "output_type": "stream",
     "text": [
      "{'puuid': 'zz3kkg_TNb8QiMfvHSxDX5NhxSpLKDqK4TbSfhVqAZ_hycB5lrwkoePnCrMOlv5krA4xxHkQTKYCAA', 'gameName': 'fugufishy', 'tagLine': 'NA1'}\n"
     ]
    }
   ],
   "source": [
    "# Define static info for Riot API\n",
    "API_KEY = 'RGAPI-363cccbd-5bf7-4d53-9e6d-8bc44c959dcb'\n",
    "ACCOUNT_URL = \"https://americas.api.riotgames.com/riot/account/v1/accounts/by-riot-id/{username}/{tagline}\"\n",
    "\n",
    "# Define rate limits\n",
    "ONE_SECOND = 1\n",
    "TWO_MINUTES = 120\n",
    "\n",
    "@sleep_and_retry\n",
    "@limits(calls=20, period=ONE_SECOND)\n",
    "@limits(calls=100, period=TWO_MINUTES)\n",
    "def make_request(url, username, tagline):\n",
    "    headers = {'X-Riot-Token':API_KEY}\n",
    "    response = requests.get(url.format(username=username, tagline=tagline), headers=headers)\n",
    "\n",
    "    if response.status_code == 200:\n",
    "        return response.json()\n",
    "    else:\n",
    "        print(f'Error: {response.status_code}')\n",
    "        print(response.text)\n",
    "        sys.exit()\n",
    "\n",
    "username = 'fugufishy'\n",
    "tagline = 'NA1'\n",
    "\n",
    "data = make_request(ACCOUNT_URL, username, tagline)\n",
    "\n",
    "if data:\n",
    "    print(data)"
   ]
  },
  {
   "cell_type": "code",
   "execution_count": null,
   "metadata": {},
   "outputs": [],
   "source": [
    "# Store necessary links for specific riot information in dictionary\n",
    "# Keys: Target API\n",
    "# Values: Hyperlink to target API where arguments are passed using the .format() method\n",
    "endpoint_dict = {\n",
    "    'account-v1':'https://americas.api.riotgames.com/riot/account/v1/accounts/by-riot-id/{username}/{tagline}',\n",
    "    'summoner-v4':'https://na1.api.riotgames.com/lol/summoner/v4/summoners/by-puuid/{puuid}',\n",
    "}"
   ]
  },
  {
   "cell_type": "code",
   "execution_count": null,
   "metadata": {},
   "outputs": [],
   "source": []
  }
 ],
 "metadata": {
  "kernelspec": {
   "display_name": "LOLProject",
   "language": "python",
   "name": "python3"
  },
  "language_info": {
   "codemirror_mode": {
    "name": "ipython",
    "version": 3
   },
   "file_extension": ".py",
   "mimetype": "text/x-python",
   "name": "python",
   "nbconvert_exporter": "python",
   "pygments_lexer": "ipython3",
   "version": "3.13.2"
  }
 },
 "nbformat": 4,
 "nbformat_minor": 2
}
