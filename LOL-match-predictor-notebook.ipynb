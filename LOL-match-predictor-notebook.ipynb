{
 "cells": [
  {
   "cell_type": "code",
   "execution_count": 54,
   "metadata": {},
   "outputs": [],
   "source": [
    "import cassiopeia as cass\n",
    "import constants\n",
    "import random\n",
    "import requests\n",
    "from bs4 import BeautifulSoup\n",
    "from bs4 import Comment\n",
    "import pandas as pd\n",
    "import re\n",
    "import math\n",
    "from urllib.parse import unquote"
   ]
  },
  {
   "cell_type": "markdown",
   "metadata": {},
   "source": [
    "# Test Main Code"
   ]
  },
  {
   "cell_type": "code",
   "execution_count": null,
   "metadata": {},
   "outputs": [],
   "source": [
    "# Functions to collect player info from top 4% of league of legends players\n",
    "def get_opgg_info(opgg_url: str) -> BeautifulSoup:\n",
    "    \"\"\"Generates a bs4 html text object\"\"\"\n",
    "    opgg_response = requests.get(opgg_url)\n",
    "    opgg_response.encoding = 'utf-8'\n",
    "    opgg_html = opgg_response.text\n",
    "    \n",
    "    return BeautifulSoup(opgg_html, \"html.parser\")\n",
    "\n",
    "\n",
    "def opgg_page_count(opgg_text: BeautifulSoup) -> int:\n",
    "    total_player_div = opgg_text.find_all('div', class_='css-1a7bwbq ef3mb1o0')\n",
    "    total_player_count = int(\"\".join(re.search(r'(?<=Total )\\S+', str(total_player_div)).group().split(',')))\n",
    "    high_elo_count = math.floor(total_player_count * 0.04)  # Get top 4% of players from KR player base\n",
    "    num_pages = math.ceil(high_elo_count / 100)\n",
    "    \n",
    "    return num_pages\n",
    "\n",
    "# Not to be included in final code\n",
    "def get_usernames_taglines(hyperlink_string):\n",
    "    \"\"\"Generates username and tagline for league players\n",
    "\n",
    "    Args:\n",
    "        hyperlink_list (list): hyperlinks for players extracted from HTML\n",
    "    Returns:\n",
    "        user_info (dict): A dictionary of usernames and taglines\n",
    "    \"\"\"\n",
    "    player_info = re.search(r'(?<=kr\\/)\\S+(?=\">)', str(hyperlink_string)).group()\n",
    "    # Splits decoded username and tagline\n",
    "    decoded_username_tagline = unquote(player_info).split('-')\n",
    "    \n",
    "    return {decoded_username_tagline[0]:decoded_username_tagline[1]}"
   ]
  },
  {
   "cell_type": "code",
   "execution_count": null,
   "metadata": {},
   "outputs": [],
   "source": [
    "# Main for loop to find player info\n",
    "def create_kr_player_dict(opgg_html_link: str, max_pages=0) -> dict:\n",
    "    # Calculate number of pages to parse\n",
    "    opgg_text = get_opgg_info(opgg_html_link)\n",
    "    num_webpages = opgg_page_count(opgg_text)\n",
    "    player_search = re.compile(r'(?<=kr\\/)\\S+(?=\">)')\n",
    "\n",
    "    player_dict = {}\n",
    "\n",
    "    # FOR TESTING ONLY\n",
    "    if max_pages > 0:\n",
    "        num_webpages = max_pages\n",
    "    # FOR TESTING ONLY\n",
    "\n",
    "    for page in range(1, num_webpages+1):\n",
    "        # Gets data from specific page, replacing page 1 with page\n",
    "        opgg_page = get_opgg_info(re.sub(r'\\d', str(page), opgg_html_link))\n",
    "        player_info_hyperlinks = opgg_page.find_all('a', class_='summoner-link')\n",
    "\n",
    "        for player in player_info_hyperlinks:\n",
    "            player_name_tagline = player_search.search(str(player)).group()\n",
    "            decoded_name_tagline = unquote(player_name_tagline).split('-')\n",
    "\n",
    "            # Key is a player's username, value is a player's tagline\n",
    "            player_dict.update({decoded_name_tagline[0]:decoded_name_tagline[1]})\n",
    "    \n",
    "    return player_dict"
   ]
  },
  {
   "cell_type": "code",
   "execution_count": null,
   "metadata": {},
   "outputs": [],
   "source": [
    "# Test gathering data from OP.GG on top KR players\n",
    "test_dict = create_kr_player_dict('https://www.op.gg/leaderboards/tier?region=kr&type=ladder&page=1', 2)"
   ]
  },
  {
   "cell_type": "markdown",
   "metadata": {},
   "source": [
    "## Web-scraping for top League of Legends players"
   ]
  },
  {
   "cell_type": "code",
   "execution_count": 5,
   "metadata": {},
   "outputs": [],
   "source": [
    "# For op.gg, need to specify the User-Agent\n",
    "opgg_url = 'https://www.op.gg/leaderboards/tier?region=kr&type=ladder&page=1'\n",
    "opgg_response = requests.get(opgg_url)\n",
    "opgg_response.encoding = 'utf-8'\n",
    "opgg_html = opgg_response.text\n",
    "opgg_soup = BeautifulSoup(opgg_html, \"html.parser\")"
   ]
  },
  {
   "cell_type": "code",
   "execution_count": 6,
   "metadata": {},
   "outputs": [
    {
     "data": {
      "text/plain": [
       "671"
      ]
     },
     "execution_count": 6,
     "metadata": {},
     "output_type": "execute_result"
    }
   ],
   "source": [
    "# Get number of KR players from op.gg\n",
    "total_player_div = opgg_soup.find_all('div', class_='css-1a7bwbq ef3mb1o0')\n",
    "total_player_count = int(\"\".join(re.search(r'(?<=Total )\\S+', str(total_player_div)).group().split(',')))\n",
    "high_elo_count = math.floor(total_player_count * 0.04)  # Get top 4% of players from KR player base\n",
    "num_pages = math.ceil(high_elo_count / 100)\n",
    "num_pages"
   ]
  },
  {
   "cell_type": "code",
   "execution_count": 6,
   "metadata": {},
   "outputs": [],
   "source": [
    "# Find player names\n",
    "user_info_hyperlinks = opgg_soup.find_all('a', class_='summoner-link')"
   ]
  },
  {
   "cell_type": "code",
   "execution_count": 10,
   "metadata": {},
   "outputs": [],
   "source": [
    "# For testing functionality of cassiopeia\n",
    "test_list = user_info_hyperlinks[0:5]"
   ]
  },
  {
   "cell_type": "code",
   "execution_count": 282,
   "metadata": {},
   "outputs": [],
   "source": [
    "# Creates a dictionary of unique player:tagline key:value pairs\n",
    "player_data_dict = {}\n",
    "for player in test_list:  # Replace test_list with user_info_hyperlinks in final code\n",
    "    player_info = get_usernames_taglines(player)\n",
    "    player_data_dict.update(player_info)"
   ]
  },
  {
   "cell_type": "markdown",
   "metadata": {},
   "source": [
    "## Testing Cassiopeia Riot API interface"
   ]
  },
  {
   "cell_type": "code",
   "execution_count": null,
   "metadata": {},
   "outputs": [],
   "source": [
    "# Set API key from untracked constants.py file\n",
    "cass.set_riot_api_key(constants.RIOT_API_KEY)  # Must update constants.py every 24 hours with new API key"
   ]
  },
  {
   "cell_type": "code",
   "execution_count": null,
   "metadata": {},
   "outputs": [
    {
     "data": {
      "text/plain": [
       "{'global': {'version_from_match': 'patch'},\n",
       " 'plugins': {},\n",
       " 'pipeline': {'Cache': {},\n",
       "  'DDragon': {},\n",
       "  'RiotAPI': {'api_key': '$RIOT_API_KEY'}},\n",
       " 'logging': {'print_calls': True,\n",
       "  'print_riot_api_key': False,\n",
       "  'default': 'WARNING',\n",
       "  'core': 'WARNING'}}"
      ]
     },
     "metadata": {},
     "output_type": "display_data"
    }
   ],
   "source": [
    "# Explore config of cassiopeia\n",
    "cass.get_default_config()"
   ]
  },
  {
   "cell_type": "code",
   "execution_count": null,
   "metadata": {},
   "outputs": [
    {
     "name": "stdout",
     "output_type": "stream",
     "text": [
      "Making call: https://asia.api.riotgames.com/riot/account/v1/accounts/by-riot-id/Blue/KR33\n",
      "Making call: https://ddragon.leagueoflegends.com/realms/kr.json\n",
      "Making call: https://ddragon.leagueoflegends.com/cdn/15.3.1/data/ko_KR/championFull.json\n",
      "They enjoy playing champions such as 카르마.\n",
      "Making call: https://asia.api.riotgames.com/riot/account/v1/accounts/by-riot-id/pupuouo/KR1\n",
      "They enjoy playing champions such as 모데카이저.\n",
      "Making call: https://asia.api.riotgames.com/riot/account/v1/accounts/by-riot-id/이%20차가%20식기전에/KR1\n",
      "They enjoy playing champions such as 신드라.\n",
      "Making call: https://asia.api.riotgames.com/riot/account/v1/accounts/by-riot-id/斗鱼南波儿丶cl666/0028\n",
      "They enjoy playing champions such as 나서스.\n",
      "Making call: https://asia.api.riotgames.com/riot/account/v1/accounts/by-riot-id/스컬지/K%20T\n",
      "They enjoy playing champions such as 카직스.\n"
     ]
    }
   ],
   "source": [
    "# Gathers info from account.summoner\n",
    "for username, tagline in player_data_dict.items():\n",
    "    account = cass.get_account(name=username, tagline=f'{tagline}', region='KR')\n",
    "    summoner = account.summoner"
   ]
  }
 ],
 "metadata": {
  "kernelspec": {
   "display_name": "LOLProject",
   "language": "python",
   "name": "python3"
  },
  "language_info": {
   "codemirror_mode": {
    "name": "ipython",
    "version": 3
   },
   "file_extension": ".py",
   "mimetype": "text/x-python",
   "name": "python",
   "nbconvert_exporter": "python",
   "pygments_lexer": "ipython3",
   "version": "3.13.2"
  }
 },
 "nbformat": 4,
 "nbformat_minor": 2
}
